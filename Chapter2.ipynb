{
 "cells": [
  {
   "cell_type": "markdown",
   "metadata": {},
   "source": [
    "# Chapter 2: Conditional probability\n",
    " \n",
    "This Jupyter notebook is the Python equivalent of the R code in section 2.10 R, pp. 80 - 83, [Introduction to Probability, Second Edition](https://www.crcpress.com/Introduction-to-Probability-Second-Edition/Blitzstein-Hwang/p/book/9781138369917), Blitzstein & Hwang."
   ]
  },
  {
   "cell_type": "code",
   "execution_count": 2,
   "metadata": {},
   "outputs": [],
   "source": [
    "import numpy as np"
   ]
  },
  {
   "cell_type": "markdown",
   "metadata": {},
   "source": [
    "## Simulating the frequentist interpretation \n",
    "\n",
    "Recall that the frequentist interpretation of conditional probability based on a large number `n` of repetitions of an experiment is $P(A|B) ≈ n_{AB}/n_{B}$, where $n_{AB}$ is the number of times that $A \\cap B$ occurs and $n_{B}$ is the number of times that $B$ occurs. Let's try this out by simulation, and verify the results of Example 2.2.5. So let's use [`numpy.random.choice`](https://docs.scipy.org/doc/numpy-1.15.0/reference/generated/numpy.random.choice.html) to simulate `n` families, each with two children."
   ]
  },
  {
   "cell_type": "code",
   "execution_count": 3,
   "metadata": {},
   "outputs": [
    {
     "name": "stdout",
     "output_type": "stream",
     "text": [
      "child1:\n",
      "[1 2 1 ... 1 2 2]\n",
      "\n",
      "child2:\n",
      "[1 2 2 ... 2 1 2]\n",
      "\n"
     ]
    }
   ],
   "source": [
    "np.random.seed(42)\n",
    "\n",
    "n = 10**5\n",
    "\n",
    "child1 = np.random.choice([1,2],n, replace = True)\n",
    "child2 = np.random.choice([1,2],n, replace = True)\n",
    "\n",
    "print('child1:\\n{}\\n'.format(child1))\n",
    "print('child2:\\n{}\\n'.format(child2))"
   ]
  },
  {
   "cell_type": "markdown",
   "metadata": {},
   "source": [
    "Here `child1` is a NumPy `array` of length `n`, where each element is a 1 or a 2. Letting 1 stand for \"girl\" and 2 stand for \"boy\", this `array` represents the gender of the elder child in each of the `n` families. Similarly, `child2` represents the gender of the younger child in each family. \n",
    "\n",
    "Alternatively, we could have used"
   ]
  },
  {
   "cell_type": "code",
   "execution_count": 4,
   "metadata": {},
   "outputs": [
    {
     "data": {
      "text/plain": [
       "array(['boy', 'boy', 'boy', ..., 'boy', 'boy', 'boy'], dtype='<U4')"
      ]
     },
     "execution_count": 4,
     "metadata": {},
     "output_type": "execute_result"
    }
   ],
   "source": [
    "np.random.choice(['girl','boy'],n, replace = True)"
   ]
  },
  {
   "cell_type": "markdown",
   "metadata": {},
   "source": [
    "but it is more convenient working with numerical values.\n",
    "\n",
    "Let $A$ be the event that both children are girls and $B$ the event that the elder is a girl. Following the frequentist interpretation, we count the number of repetitions where $B$ occurred and name it `n_b`, and we also count the number of repetitions where $A \\cap B$ occurred and name it `n_ab`. Finally, we divide `n_ab` by ` n_b` to approximate $P(A|B)$."
   ]
  },
  {
   "cell_type": "code",
   "execution_count": 5,
   "metadata": {},
   "outputs": [
    {
     "name": "stdout",
     "output_type": "stream",
     "text": [
      "P(both girls| elder is a girl) = 0.50 \n"
     ]
    }
   ],
   "source": [
    "n_b = np.sum(child1==1)\n",
    "n_ab = np.sum((child1==1) & (child2==1))\n",
    "print('P(both girls| elder is a girl) = {:0.2F} '.format(n_ab/n_b))"
   ]
  },
  {
   "cell_type": "markdown",
   "metadata": {},
   "source": [
    "The ampersand `&` is an elementwise $AND$, so `n_ab` is the number of families where both the first child and the second child are girls. When we ran this code, we got 0.50, confirming our answer $P(\\text{both girls | elder is a girl}) = 1/2$. \n",
    "\n",
    "Now let $A$ be the event that both children are girls and $B$ the event that at least one of the children is a girl. Then $A \\cap B$ is the same, but `n_b` needs to count the number of families where at least one child is a girl. This is accomplished with the elementwise $OR$ operator `|` (this is not a conditioning bar; it is an inclusive $OR$, returning `True` if at least one element is `True`)."
   ]
  },
  {
   "cell_type": "code",
   "execution_count": 6,
   "metadata": {},
   "outputs": [
    {
     "name": "stdout",
     "output_type": "stream",
     "text": [
      "P(both girls | at least one is a girl) = 0.33508\n"
     ]
    }
   ],
   "source": [
    "n_b = np.sum((child1==1) | (child2==1))\n",
    "n_ab = np.sum((child1==1) & (child2==1))\n",
    "print('P(both girls | at least one is a girl) = {:0.5F}'.format(n_ab/n_b))"
   ]
  },
  {
   "cell_type": "markdown",
   "metadata": {},
   "source": [
    "For us, the result was 0.33, confirming that $P(\\text{both girls | at least one girl}) = 1/3$."
   ]
  },
  {
   "cell_type": "markdown",
   "metadata": {},
   "source": [
    "## Monty Hall simulation\n",
    "\n",
    "Many long, bitter debates about the Monty Hall problem could have been averted by trying it out with a simulation. To study how well the never-switch strategy performs, let's generate 10<sup>5</sup> runs of the Monty Hall game. To simplify notation, assume the contestant always chooses door 1. Then we can generate a vector specifying which door has the car for each repetition:"
   ]
  },
  {
   "cell_type": "code",
   "execution_count": 8,
   "metadata": {},
   "outputs": [
    {
     "name": "stdout",
     "output_type": "stream",
     "text": [
      "the probability of never changing door is: 0.334\n"
     ]
    }
   ],
   "source": [
    "np.random.seed(42)\n",
    "\n",
    "n = 10**5\n",
    "cardoor = np.random.choice([1,2,3],n, replace = True)\n",
    "print('the probability of never changing door is: {:.3F}'.format(np.sum(cardoor == 1)/n))"
   ]
  },
  {
   "cell_type": "markdown",
   "metadata": {},
   "source": [
    "At this point we could generate the vector specifying which doors Monty opens, but that's unnecessary since the never-switch strategy succeeds if and only if door 1 has the car! So the fraction of times when the never-switch strategy succeeds is `numpy.sum(cardoor==1)/n`, which was 0.334 in our simulation. This is very close to 1/3.\n",
    "\n",
    "What if we want to play the Monty Hall game interactively? We can do this by programming a Python class that would let us play interactively or let us run a simulation across many trials."
   ]
  },
  {
   "cell_type": "code",
   "execution_count": 9,
   "metadata": {},
   "outputs": [],
   "source": [
    "class Monty():\n",
    "    \n",
    "    def __init__(self):\n",
    "        \"\"\" Object creation function. \"\"\"\n",
    "        self.state = 0\n",
    "        self.doors = np.array([1,2,3])\n",
    "        self.prepare_game()\n",
    "        \n",
    "    def get_success_rate(self):\n",
    "        \"\"\" Returns the success rate in this series of plays: num. wins/ num. games.\"\"\"\n",
    "        if self.num_plays > 0:\n",
    "            return 1.0 * self.num_wins / self.num_plays\n",
    "        else:\n",
    "            return 0.0\n",
    "        \n",
    "    def prepare_game(self):\n",
    "        \"\"\" Prepare initial values for game play, and randomly choose the door with the car\"\"\"\n",
    "        self.num_plays = 0\n",
    "        self.num_wins = 0\n",
    "        self.cardoor = np.random.choice(self.doors)\n",
    "        self.players_choice = None\n",
    "        self.montys_choice = None \n",
    "        \n",
    "    def choose_door(self,door):\n",
    "        \"\"\" Player chooses a door at state 0, Monty will choose a remaining door to reveal a goat.\"\"\"\n",
    "        self.state = 1 \n",
    "        self.players_choice = door\n",
    "        self.montys_choice = np.random.choice(self.doors[(self.doors != self.players_choice) & (self.doors != self.cardoor)])\n",
    "        \n",
    "    def switch_door(self, do_switch):\n",
    "        \"\"\" Player has the choice to switch from the door he has originally chosen to the remaining unopened door.\n",
    "        \n",
    "            If the door the player selected is the same as the cardoor, then num. of wins is incremented.\n",
    "            \n",
    "            Finally, number of plays will be incremented.\n",
    "        \"\"\"\n",
    "        self.state = 2\n",
    "        if do_switch:\n",
    "            self.players_choice = self.doors[(self.doors != self.players_choice) & (self.doors != self.montys_choice)][0]\n",
    "        if self.players_choice == self.cardoor:\n",
    "            self.num_wins += 1\n",
    "        self.num_plays += 1\n",
    "    \n",
    "    def continue_play(self):\n",
    "        \"\"\" Players opts to continue playing the game.\n",
    "        \n",
    "            The game returns to state 0, but the num. wins and num.plays stay untouched.\n",
    "            \n",
    "            A new cardoor is randomly choosen.\n",
    "        \"\"\"\n",
    "        self.state = 0\n",
    "        self.cardoor = np.random.choice(self.doors)\n",
    "        self.players_choice = None\n",
    "        self.montys_choice = None\n",
    "        \n",
    "    def reset(self):\n",
    "        \"\"\" The entire game state is returned to its initial state.\n",
    "        \n",
    "            All counters and variable holding state are re-initialized.      \n",
    "        \n",
    "        \"\"\"\n",
    "        self.state = 0\n",
    "        self.prepare_game()\n",
    "        "
   ]
  },
  {
   "cell_type": "markdown",
   "metadata": {},
   "source": [
    "In brief:\n",
    "* The `Monty` class represents a simple state model for the game.\n",
    "* When an instance of the `Monty` game is created, game state-holding variables are initialized and a `cardoor` randomly chosen.\n",
    "* After the player initially picks a door, `Monty` will choose a remaining door that does not have car behind it.\n",
    "* The player can then choose to switch to the other, remaining unopened door, or stick with her initial choice.\n",
    "* `Monty` will then see if the player wins or not, and updates the state-holding variables for num. wins and num. plays.\n",
    "* The player can continue playing, or stop and reset the game to its original state.\n",
    "\n",
    "### As a short simulation program\n",
    "\n",
    "Here is an example showing how to use the `Monty` class above to run a simulation to see how often the switching strategy succeeds."
   ]
  },
  {
   "cell_type": "code",
   "execution_count": 11,
   "metadata": {},
   "outputs": [
    {
     "name": "stdout",
     "output_type": "stream",
     "text": [
      "In 100000 trials, the switching strategy won 66532 times.\n",
      "Success rate is: 0.665\n"
     ]
    }
   ],
   "source": [
    "np.random.seed(42)\n",
    "\n",
    "trials = 10 ** 5\n",
    "\n",
    "game = Monty()\n",
    "for _ in range(trials):\n",
    "    game.choose_door(np.random.choice([1,2,3]))\n",
    "    game.switch_door(True)\n",
    "    game.continue_play()\n",
    "    \n",
    "print('In {} trials, the switching strategy won {} times.'.format(game.num_plays, game.num_wins))\n",
    "print('Success rate is: {:.3F}'.format(game.get_success_rate()))"
   ]
  },
  {
   "cell_type": "markdown",
   "metadata": {},
   "source": [
    "----\n",
    "\n",
    "Joseph K. Blitzstein and Jessica Hwang, Harvard University and Stanford University, &copy; 2019 by Taylor and Francis Group, LLC"
   ]
  }
 ],
 "metadata": {
  "kernelspec": {
   "display_name": "Python 3",
   "language": "python",
   "name": "python3"
  },
  "language_info": {
   "codemirror_mode": {
    "name": "ipython",
    "version": 3
   },
   "file_extension": ".py",
   "mimetype": "text/x-python",
   "name": "python",
   "nbconvert_exporter": "python",
   "pygments_lexer": "ipython3",
   "version": "3.8.5"
  }
 },
 "nbformat": 4,
 "nbformat_minor": 4
}
