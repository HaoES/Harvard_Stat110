{
 "cells": [
  {
   "cell_type": "markdown",
   "metadata": {},
   "source": [
    "# Chapter 5: Continuous Random Variables\n",
    " \n",
    "This Jupyter notebook is the Python equivalent of the R code in section 5.9 R, pp. 253 - 255, [Introduction to Probability, Second Edition](https://www.crcpress.com/Introduction-to-Probability-Second-Edition/Blitzstein-Hwang/p/book/9781138369917), Blitzstein & Hwang.\n",
    "\n",
    "----"
   ]
  },
  {
   "cell_type": "code",
   "execution_count": 2,
   "metadata": {},
   "outputs": [],
   "source": [
    "import numpy as np"
   ]
  },
  {
   "cell_type": "markdown",
   "metadata": {},
   "source": [
    "## Python, SciPy and Matplotlib\n",
    "\n",
    "In this section we will introduce continuous distributions in Python and SciPy, learn how to make basic plots, demonstrate the universality of the Uniform by simulation, and simulate arrival times in a Poisson process."
   ]
  },
  {
   "cell_type": "markdown",
   "metadata": {},
   "source": [
    "## Uniform, Normal, and Exponential distributions \n",
    "\n",
    "For [continuous distributions in `scipy.stats`](https://docs.scipy.org/doc/scipy/reference/tutorial/stats/continuous.html), the `pdf` function gives the PDF, the `cdf` function gives the CDF, and the `rvs` function generates random numbers from the continuous distribution. This is in keeping with the application programming interface of the [discrete statistical distributions in `scipy.stats`](https://docs.scipy.org/doc/scipy/reference/tutorial/stats/discrete.html). Thus, we have the following functions: \n",
    "\n",
    "### Uniform\n",
    "[`scipy.stats.uniform`](https://docs.scipy.org/doc/scipy/reference/generated/scipy.stats.uniform.html#scipy.stats.uniform) provides functions for Uniform continuous random variables. \n",
    "* To evaluate the $Unif(a, b)$ PDF at $x$, we use `uniform.pdf(x, a, b)`. \n",
    "* For the CDF, we use `uniform.cdf(x, a, b)`. \n",
    "* To generate $n$ realizations from the $Unif(a, b)$ distribution, we use `uniform.rvs(a, b, size=n)`. "
   ]
  },
  {
   "cell_type": "code",
   "execution_count": 3,
   "metadata": {},
   "outputs": [
    {
     "name": "stdout",
     "output_type": "stream",
     "text": [
      "PDF of unif(0,4) evaluated at 3 is 0.25\n",
      "\n",
      "CDF of unif(0,4) evaluated at 3 is 0.75\n",
      "\n",
      "Generating 10 realizations from Unif(0, 4):[1.49816048 3.80285723 2.92797577 2.39463394 0.62407456 0.62397808\n",
      " 0.23233445 3.46470458 2.40446005 2.83229031] \n",
      "\n"
     ]
    }
   ],
   "source": [
    "# seed the random number generator\n",
    "np.random.seed(42)\n",
    "\n",
    "from scipy.stats import uniform \n",
    "# to learn more about scipy.stats.uniform un-comment the following line:\n",
    "#print(uniform.__doc__)\n",
    "\n",
    "a = 0\n",
    "b = 4\n",
    "x = 3\n",
    "n = 10\n",
    "\n",
    "print(\"PDF of unif({},{}) evaluated at {} is {}\\n\".format(a,b,x, uniform.pdf(x,a,b)))\n",
    "\n",
    "print(\"CDF of unif({},{}) evaluated at {} is {}\\n\".format(a,b,x, uniform.cdf(x,a,b)))\n",
    "\n",
    "print(\"Generating {} realizations from Unif({}, {}):{} \\n\".format(n,a,b,uniform.rvs(a,b, size = n)))\n"
   ]
  },
  {
   "cell_type": "markdown",
   "metadata": {},
   "source": [
    "### Normal\n",
    "[`scipy.stats.norm`](https://docs.scipy.org/doc/scipy/reference/generated/scipy.stats.norm.html#scipy.stats.norm) provides functions for normal continuous random variables. \n",
    "\n",
    "* To evaluate the $N(\\mu, \\sigma^2)$ PDF at $x$, we use `norm.pdf(x, loc, scale)`, where the parameter `loc` corresponds to $\\mu$ and `scale` corresponds to standard deviation $\\sigma$ (and **not** variance $\\sigma^2$).\n",
    "* For the CDF, we use `norm.cdf(x, loc, scale)`. \n",
    "* To generate $n$ realizations from the $N(\\mu, \\sigma^2)$ distribution, we use `norm.rvs(loc, scale, size=n)`. "
   ]
  },
  {
   "cell_type": "code",
   "execution_count": 4,
   "metadata": {},
   "outputs": [
    {
     "name": "stdout",
     "output_type": "stream",
     "text": [
      "the PDF of N(0.0, 2.0) evaluated at 1.5 is 0.15056871607740221 \n",
      "\n",
      "the CDF of N(0.0, 2.0) evaluated at 1.5 is 0.7733726476231317 \n",
      "\n",
      "Generation 10 relizations from N(0.0, 2.0): [ 0.99342831 -0.2765286   1.29537708  3.04605971 -0.46830675 -0.46827391\n",
      "  3.15842563  1.53486946 -0.93894877  1.08512009]\n",
      "\n"
     ]
    }
   ],
   "source": [
    "np.random.seed(42)\n",
    "\n",
    "from scipy.stats import norm\n",
    "\n",
    "# to learn more about scipy.stats.norm un-comment the following line:\n",
    "#print(norm.__doc__)\n",
    "\n",
    "mu = 0.0\n",
    "sigma = 2.0\n",
    "x = 1.5\n",
    "\n",
    "print(\"the PDF of N({}, {}) evaluated at {} is {} \\n\".format(mu, sigma, x, norm.pdf(x,mu,sigma)))\n",
    "print(\"the CDF of N({}, {}) evaluated at {} is {} \\n\".format(mu, sigma, x, norm.cdf(x,mu,sigma)))\n",
    "print(\"Generation {} relizations from N({}, {}): {}\\n\".format(n,mu,sigma, norm.rvs(mu,sigma, size = n)))"
   ]
  },
  {
   "cell_type": "markdown",
   "metadata": {},
   "source": [
    "&#x2623; 5.9.1 (Normal parameters in `scipy.stats.norm`). Note that we have to input the standard deviation for the `scale` parameter value, not the variance! For example, to get the $N(10, 3)$ CDF at 12, we use`norm.cdf(12, 10, np.sqrt(3))`. Ignoring this is a common, disastrous coding error."
   ]
  },
  {
   "cell_type": "code",
   "execution_count": 5,
   "metadata": {},
   "outputs": [
    {
     "name": "stdout",
     "output_type": "stream",
     "text": [
      "N(10, 1.7320508075688772) CDF at 12 is 0.8758934605050381\n"
     ]
    }
   ],
   "source": [
    "loc = 10\n",
    "var = 3\n",
    "scale = np.sqrt(var)\n",
    "x = 12\n",
    "\n",
    "ans = norm.cdf(x, loc, scale)\n",
    "\n",
    "print('N({}, {}) CDF at {} is {}'.format(loc, scale, x, ans))"
   ]
  },
  {
   "cell_type": "markdown",
   "metadata": {},
   "source": [
    "### Exponential\n",
    "[`scipy.stats.expon`](https://docs.scipy.org/doc/scipy/reference/generated/scipy.stats.expon.html#scipy.stats.expon) provides functions for exponential continuous random variables. The probability density function for $Expo(\\lambda)$ is:\n",
    "\n",
    "\\begin{align}\n",
    "  f(x) &= \\lambda e^{-\\lambda x}\n",
    "\\end{align}\n",
    "\n",
    "\n",
    "The probability density is defined in the “standardized” form. To shift and/or scale the distribution use the `loc` and `scale` parameters. Specifically, `expon.pdf(x, loc, scale)` is identically equivalent to `expon.pdf(y) / scale` with `y = (x - loc) / scale`.\n",
    "\n",
    "* To evaluate the $Expo(\\lambda)$ PDF at $x$, we use `expon.pdf(x, scale=1/lambda)`, where the $\\lambda$ corresponds to `scale=1/lambd`. (we use lambd instead of lambda because it is a python keyword)\n",
    "* For the CDF, we use `expon.cdf(x, scale=1/lambd)`. \n",
    "* To generate $n$ realizations from the $Expo(\\lambda)$ distribution, we use `expon.rvs(scale=1/lambd, size=n)`."
   ]
  },
  {
   "cell_type": "code",
   "execution_count": 6,
   "metadata": {},
   "outputs": [
    {
     "name": "stdout",
     "output_type": "stream",
     "text": [
      "PDF of expo(2.1) evaluated at 5 is: 5.782654363446904e-05 \n",
      "\n",
      "CDF of expo(2.1) evaluated at 5 is: 0.9999724635506503 \n",
      "\n",
      "Generating 10 realizations from expo(2.1): [0.223461   1.43339116 0.62702176 0.43473455 0.08077375 0.08076014\n",
      " 0.02849465 0.95772898 0.43765817 0.58630955] \n",
      "\n"
     ]
    }
   ],
   "source": [
    "np.random.seed(42)\n",
    "\n",
    "from scipy.stats import expon\n",
    "\n",
    "# to learn more about scipy.stats.expon un-comment the following line:\n",
    "#print(expon.__doc__)\n",
    "\n",
    "lambd = 2.1\n",
    "x = 5\n",
    "\n",
    "expon.pdf(x,scale = 1/lambd)\n",
    "\n",
    "print(\"PDF of expo({}) evaluated at {} is: {} \\n\".format(lambd,x, expon.pdf(x,scale=1/lambd)))\n",
    "\n",
    "print(\"CDF of expo({}) evaluated at {} is: {} \\n\".format(lambd,x, expon.cdf(x,scale=1/lambd)))\n",
    "\n",
    "print(\"Generating {} realizations from expo({}): {} \\n\".format(n, lambd, expon.rvs(scale=1/lambd, size = n)))\n"
   ]
  },
  {
   "cell_type": "markdown",
   "metadata": {},
   "source": [
    "Due to the importance of location-scale transformations for continuous distributions, SciPy has default parameter settings for each of these three families. The default for the Uniform [`scipy.stats.uniform`](https://docs.scipy.org/doc/scipy/reference/generated/scipy.stats.uniform.html#scipy.stats.uniform) is `loc=0, scale=1`, the default for the Normal [`scipy.stats.norm`](https://docs.scipy.org/doc/scipy/reference/generated/scipy.stats.norm.html#scipy.stats.norm) is `loc=0, scale=1`, and the default for the Exponential [`scipy.stats.expon`](https://docs.scipy.org/doc/scipy/reference/generated/scipy.stats.expon.html#scipy.stats.expon) is `loc=0, scale=1`.\n",
    "\n",
    "For example, `uniform.pdf(0.5)`, with no additional inputs, evaluates the $Unif(0, 1)$ PDF at 0.5."
   ]
  },
  {
   "cell_type": "code",
   "execution_count": 7,
   "metadata": {},
   "outputs": [
    {
     "data": {
      "text/plain": [
       "1.0"
      ]
     },
     "execution_count": 7,
     "metadata": {},
     "output_type": "execute_result"
    }
   ],
   "source": [
    "uniform.pdf(0.5)"
   ]
  },
  {
   "cell_type": "markdown",
   "metadata": {},
   "source": [
    "`norm.rvs(size=10)`, with no additional inputs, generates 10 realizations from the $N (0, 1)$ distribution."
   ]
  },
  {
   "cell_type": "code",
   "execution_count": 8,
   "metadata": {},
   "outputs": [
    {
     "data": {
      "text/plain": [
       "array([-0.46947439,  0.54256004, -0.46341769, -0.46572975,  0.24196227,\n",
       "       -1.91328024, -1.72491783, -0.56228753, -1.01283112,  0.31424733])"
      ]
     },
     "execution_count": 8,
     "metadata": {},
     "output_type": "execute_result"
    }
   ],
   "source": [
    "norm.rvs(size=10)"
   ]
  },
  {
   "cell_type": "markdown",
   "metadata": {},
   "source": [
    "This means there are two ways to generate a $N(\\mu, \\sigma^2)$ random variable in SciPy. After choosing our values of $\\mu$ and $\\sigma$,"
   ]
  },
  {
   "cell_type": "code",
   "execution_count": 9,
   "metadata": {},
   "outputs": [],
   "source": [
    "mu = 1\n",
    "sigma = 2"
   ]
  },
  {
   "cell_type": "markdown",
   "metadata": {},
   "source": [
    "we can do either of the following:"
   ]
  },
  {
   "cell_type": "code",
   "execution_count": 10,
   "metadata": {},
   "outputs": [
    {
     "name": "stdout",
     "output_type": "stream",
     "text": [
      "norm.rvs(mu, sigma, size = 1) = [1.99342831]\n",
      "mu + sigmna * norm.rvs(0, 1, size = 1) = [1.99342831]\n"
     ]
    }
   ],
   "source": [
    "ans1 = norm.rvs(mu, sigma, size = 1, random_state = 42)\n",
    "ans2 = mu + sigma * norm.rvs(0, 1, size = 1, random_state = 42)\n",
    "\n",
    "print(\"norm.rvs(mu, sigma, size = 1) = {}\".format(ans1))\n",
    "print(\"mu + sigmna * norm.rvs(0, 1, size = 1) = {}\".format(ans2))"
   ]
  },
  {
   "cell_type": "markdown",
   "metadata": {},
   "source": [
    "Either way, we end up generating a draw from the $N(\\mu, \\sigma^2)$ distribution."
   ]
  },
  {
   "cell_type": "markdown",
   "metadata": {},
   "source": [
    "## Plots in Matplotlib\n",
    "\n",
    "Plotting in Python within a Jupyter notebook is done in [Matplotlib](https://matplotlib.org/). \n",
    "\n",
    "First, we import `matplotlib.pyplot` module. To cut down on typing, we can alias that imported `matplotlib.pyplot` module reference as `plt` for short. "
   ]
  },
  {
   "cell_type": "code",
   "execution_count": 11,
   "metadata": {},
   "outputs": [],
   "source": [
    "import matplotlib.pyplot as plt"
   ]
  },
  {
   "cell_type": "markdown",
   "metadata": {},
   "source": [
    "Here is how we can create a plot of the standard Normal PDF from −3 to 3 using Matplotlib in Jupyter notebook.\n",
    "\n",
    "[`numpy.linspace`](https://docs.scipy.org/doc/numpy-1.15.0/reference/generated/numpy.linspace.html) creates an evenly-spaced numerical sequence, ranging from `start` to `stop`. The third function parameter `num` lets you specify how many numbers in the sequence to generate. \n",
    "\n",
    "We use `numpy.linspace(-3, 3, 1000)` to generate 1000 numbers ranging from -3 to 3 as our `x` values in the graph; with 1000 values in the sequence, the curve looks very smooth. If we were to choose `num=20`, the piecewise linearity would become very apparent."
   ]
  },
  {
   "cell_type": "code",
   "execution_count": 12,
   "metadata": {},
   "outputs": [],
   "source": [
    "x = np.linspace(-3, 3, 1000)"
   ]
  },
  {
   "cell_type": "markdown",
   "metadata": {},
   "source": [
    "We can then call `norm.pdf(x)` to generate the `y` values in the graph, and pass both the `x` and `y` values to [`matplotlib.pyplot.plot`](https://matplotlib.org/api/_as_gen/matplotlib.pyplot.plot.html). This will render a graph of $N(0,1)$ from -3 to 3. `pyplot.show` will display the graph."
   ]
  },
  {
   "cell_type": "code",
   "execution_count": 13,
   "metadata": {},
   "outputs": [
    {
     "data": {
      "text/plain": [
       "[<matplotlib.lines.Line2D at 0x7f75e8e1d250>]"
      ]
     },
     "execution_count": 13,
     "metadata": {},
     "output_type": "execute_result"
    },
    {
     "data": {
      "image/png": "[encoded data removed]",
      "text/plain": [
       "<Figure size 432x288 with 1 Axes>"
      ]
     },
     "metadata": {
      "needs_background": "light"
     },
     "output_type": "display_data"
    }
   ],
   "source": [
    "plt.plot(x, norm.pdf(x))"
   ]
  },
  {
   "cell_type": "code",
   "execution_count": 14,
   "metadata": {},
   "outputs": [
    {
     "data": {
      "text/plain": [
       "<matplotlib.legend.Legend at 0x7f75e8d85910>"
      ]
     },
     "execution_count": 14,
     "metadata": {},
     "output_type": "execute_result"
    },
    {
     "data": {
      "image/png": "[encoded data removed]",
      "text/plain": [
       "<Figure size 432x288 with 1 Axes>"
      ]
     },
     "metadata": {
      "needs_background": "light"
     },
     "output_type": "display_data"
    }
   ],
   "source": [
    "rv1 = norm(0,1)\n",
    "rv2 = norm(0.5,1)\n",
    "rv3 = norm(1,1)\n",
    "\n",
    "plt.plot(x, rv1.pdf(x), label = \"norm(0,1)\")\n",
    "plt.plot(x, rv2.pdf(x), label = \"norm(0.5,1)\")\n",
    "plt.plot(x, rv3.pdf(x), label = \"norm(1,1)\")\n",
    "plt.legend()"
   ]
  },
  {
   "cell_type": "markdown",
   "metadata": {},
   "source": [
    "We can also set the axis labels and plot title with [`pyplot.xlabel`](https://matplotlib.org/api/_as_gen/matplotlib.pyplot.xlabel.html), [`pyplot.ylabel`](https://matplotlib.org/api/_as_gen/matplotlib.pyplot.ylabel.html), and [`pyplot.title`](https://matplotlib.org/api/_as_gen/matplotlib.pyplot.title.html) functions."
   ]
  },
  {
   "cell_type": "code",
   "execution_count": 15,
   "metadata": {},
   "outputs": [
    {
     "data": {
      "text/plain": [
       "Text(0.5, 1.0, 'Standard Normal PDF')"
      ]
     },
     "execution_count": 15,
     "metadata": {},
     "output_type": "execute_result"
    },
    {
     "data": {
      "image/png": "[encoded data removed]",
      "text/plain": [
       "<Figure size 432x288 with 1 Axes>"
      ]
     },
     "metadata": {
      "needs_background": "light"
     },
     "output_type": "display_data"
    }
   ],
   "source": [
    "rv = norm()\n",
    "plt.plot(x, rv.pdf(x))\n",
    "\n",
    "plt.xlabel('x')\n",
    "plt.ylabel('norm.pdf(x)')\n",
    "plt.title('Standard Normal PDF')\n"
   ]
  },
  {
   "cell_type": "markdown",
   "metadata": {},
   "source": [
    "The axis limits can be set manually with [`pyplot.xlim`](https://matplotlib.org/api/_as_gen/matplotlib.pyplot.xlim.html) and [`pyplot.ylim`](https://matplotlib.org/api/_as_gen/matplotlib.pyplot.ylim.html) If, for example, you wanted the vertical axis to range from 0 to 1, you would follow the call to `pyplot.plot` with `pyplot.ylim([0, 1])`."
   ]
  },
  {
   "cell_type": "code",
   "execution_count": 16,
   "metadata": {},
   "outputs": [
    {
     "data": {
      "image/png": "[encoded data removed]",
      "text/plain": [
       "<Figure size 432x288 with 1 Axes>"
      ]
     },
     "metadata": {
      "needs_background": "light"
     },
     "output_type": "display_data"
    }
   ],
   "source": [
    "plt.plot(x, rv.pdf(x))\n",
    "plt.ylim([0, 1])\n",
    "plt.show()"
   ]
  },
  {
   "cell_type": "markdown",
   "metadata": {},
   "source": [
    "Finally, to change the color of the plot, add `color=\"orange\"` or `color=\"green\"`, or whatever your favorite color is! (see [Specifying Colors](https://matplotlib.org/users/colors.html) in the Matplotlib documentation)"
   ]
  },
  {
   "cell_type": "code",
   "execution_count": 17,
   "metadata": {},
   "outputs": [
    {
     "data": {
      "image/png": "[encoded data removed]",
      "text/plain": [
       "<Figure size 432x288 with 1 Axes>"
      ]
     },
     "metadata": {
      "needs_background": "light"
     },
     "output_type": "display_data"
    }
   ],
   "source": [
    "plt.plot(x, rv.pdf(x), color='orange')\n",
    "plt.show()"
   ]
  },
  {
   "cell_type": "markdown",
   "metadata": {},
   "source": [
    "## Universality with Logistic\n",
    "\n",
    "We proved in Example 5.3.4 that for $U \\sim Unif(0, 1)$, the r.v.  $log\\left(\\frac{U}{1−U}\\right)$ follows a Logistic distribution. In SciPy and `uniform.rvs`, we can simply generate a large number of $Unif(0, 1)$ realizations and transform them."
   ]
  },
  {
   "cell_type": "code",
   "execution_count": 18,
   "metadata": {},
   "outputs": [
    {
     "data": {
      "text/plain": [
       "array([-0.88499072, -0.54785657, -0.17617432, ..., -1.04487026,\n",
       "       -1.53650929, -3.52821419])"
      ]
     },
     "execution_count": 18,
     "metadata": {},
     "output_type": "execute_result"
    }
   ],
   "source": [
    "u = uniform.rvs(size = 10**4)\n",
    "x = np.log(u/(1-u))\n",
    "x"
   ]
  },
  {
   "cell_type": "markdown",
   "metadata": {},
   "source": [
    "Now `x` contains 10<sup>4</sup> realizations from the distribution of $log\\left(\\frac{U}{1−U}\\right)$. We can visualize them with a histogram, using [`matplotlib.hist`](https://matplotlib.org/api/_as_gen/matplotlib.pyplot.hist.html). The histogram resembles a Logistic PDF, which is reassuring. To control how fine-grained the histogram is, we can set the number of bins in the histogram via the `bins` parameter (the 2nd parameter passed into `pyplot.hist`: `hist(x, 100)` produces a finer histogram, while `hist(x, 10)` produces a coarser histogram.\n",
    "\n",
    "To illustrate, we will generate two graphs side-by-side with [`pyplot.figure`](https://matplotlib.org/api/_as_gen/matplotlib.pyplot.figure.html), and use a [`pyplot.subplot`](https://matplotlib.org/api/_as_gen/matplotlib.pyplot.subplot.html) for each graph."
   ]
  },
  {
   "cell_type": "code",
   "execution_count": 20,
   "metadata": {},
   "outputs": [
    {
     "data": {
      "image/png": "[encoded data removed]",
      "text/plain": [
       "<Figure size 1008x432 with 2 Axes>"
      ]
     },
     "metadata": {
      "needs_background": "light"
     },
     "output_type": "display_data"
    }
   ],
   "source": [
    "fig = plt.figure(figsize=(14, 6))\n",
    "\n",
    "ax1 = fig.add_subplot(121)\n",
    "ax1.hist(x, 100)\n",
    "ax1.set_title('bins=100')\n",
    "\n",
    "ax2 = fig.add_subplot(122)\n",
    "ax2.hist(x, 10)\n",
    "ax2.set_title('bins=10')\n",
    "\n",
    "plt.show()"
   ]
  },
  {
   "cell_type": "markdown",
   "metadata": {},
   "source": [
    "## Poisson process simulation\n",
    "\n",
    "To simulate $n$ arrivals in a Poisson process with rate $\\lambda$, we first generate the interarrival times as i.i.d. Exponentials and store them in variable `x`:"
   ]
  },
  {
   "cell_type": "code",
   "execution_count": 21,
   "metadata": {},
   "outputs": [
    {
     "name": "stdout",
     "output_type": "stream",
     "text": [
      "[2.40024364e-01 8.25712783e-04 1.33211738e-01 1.65049053e-02\n",
      " 2.43303122e-01 2.23302115e-01 1.06103084e-01 1.11545580e-01\n",
      " 5.35344613e-04 4.19117927e-01 2.10236307e-01 2.25480711e-01\n",
      " 1.07659018e-01 4.22794796e-02 2.24100703e-01 3.44629113e-02\n",
      " 8.27162218e-02 1.05061641e-02 2.55047777e-01 1.51719172e-02\n",
      " 2.54759105e-02 8.16748968e-02 1.44431762e-01 9.65878392e-02\n",
      " 2.64139927e-02 9.43487472e-05 1.41531370e-01 4.21362321e-01\n",
      " 1.66027405e-01 6.16568839e-02 2.34098566e-01 5.27374594e-02\n",
      " 7.44301715e-02 6.48421967e-02 5.93526075e-02 1.49250310e-01\n",
      " 7.48171442e-02 3.80846335e-02 2.98619222e-02 3.84781985e-03\n",
      " 8.75137181e-02 2.61314656e-02 1.60325950e-02 1.06082519e-01\n",
      " 1.14322037e-01 1.39495129e-01 7.00326684e-02 2.24483146e-01\n",
      " 2.75424211e-01 1.64698891e-01]\n"
     ]
    }
   ],
   "source": [
    "n = 50\n",
    "lambd = 10\n",
    "x = expon.rvs(scale = 1/lambd, size = n)\n",
    "print(x)"
   ]
  },
  {
   "cell_type": "markdown",
   "metadata": {},
   "source": [
    "Then we convert the interarrival times into arrival times using the [`numpy.cumsum`](https://docs.scipy.org/doc/numpy-1.15.0/reference/generated/numpy.cumsum.html) function, which stands for \"cumulative sum\"."
   ]
  },
  {
   "cell_type": "code",
   "execution_count": 22,
   "metadata": {},
   "outputs": [
    {
     "name": "stdout",
     "output_type": "stream",
     "text": [
      "[0.24002436 0.24085008 0.37406181 0.39056672 0.63386984 0.85717196\n",
      " 0.96327504 1.07482062 1.07535597 1.49447389 1.7047102  1.93019091\n",
      " 2.03784993 2.08012941 2.30423011 2.33869302 2.42140924 2.43191541\n",
      " 2.68696319 2.7021351  2.72761101 2.80928591 2.95371767 3.05030551\n",
      " 3.0767195  3.07681385 3.21834522 3.63970754 3.80573495 3.86739183\n",
      " 4.1014904  4.15422786 4.22865803 4.29350023 4.35285283 4.50210314\n",
      " 4.57692029 4.61500492 4.64486684 4.64871466 4.73622838 4.76235985\n",
      " 4.77839244 4.88447496 4.998797   5.13829213 5.2083248  5.43280794\n",
      " 5.70823215 5.87293104]\n"
     ]
    }
   ],
   "source": [
    "t = np.cumsum(x)\n",
    "print(t)"
   ]
  },
  {
   "cell_type": "markdown",
   "metadata": {},
   "source": [
    "The array `t` now contains all the simulated arrival times."
   ]
  },
  {
   "cell_type": "markdown",
   "metadata": {},
   "source": [
    "----\n",
    "\n",
    "Joseph K. Blitzstein and Jessica Hwang, Harvard University and Stanford University, &copy; 2019 by Taylor and Francis Group, LLC"
   ]
  },
  {
   "cell_type": "code",
   "execution_count": null,
   "metadata": {},
   "outputs": [],
   "source": []
  }
 ],
 "metadata": {
  "kernelspec": {
   "display_name": "Python 3",
   "language": "python",
   "name": "python3"
  },
  "language_info": {
   "codemirror_mode": {
    "name": "ipython",
    "version": 3
   },
   "file_extension": ".py",
   "mimetype": "text/x-python",
   "name": "python",
   "nbconvert_exporter": "python",
   "pygments_lexer": "ipython3",
   "version": "3.8.5"
  }
 },
 "nbformat": 4,
 "nbformat_minor": 4
}
